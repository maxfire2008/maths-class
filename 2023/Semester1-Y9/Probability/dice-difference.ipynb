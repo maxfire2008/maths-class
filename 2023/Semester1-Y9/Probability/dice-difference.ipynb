{
 "cells": [
  {
   "cell_type": "markdown",
   "metadata": {},
   "source": [
    "* Two player. Each player places six prisoners into cells numbered 0 to 5.\n",
    "* Each day the players roll two dice. One prisoner is released if the difference on the dice corresponds to the cell number.\n",
    "* The winner is the person who releases all of their prisoners first."
   ]
  },
  {
   "cell_type": "code",
   "execution_count": 5,
   "metadata": {},
   "outputs": [
    {
     "name": "stdout",
     "output_type": "stream",
     "text": [
      "{0: 6, 1: 10, 2: 8, 3: 6, 4: 4, 5: 2}\n"
     ]
    }
   ],
   "source": [
    "x = {}\n",
    "for a in range(1,7):\n",
    "    for b in range(1,7):\n",
    "        y = abs(a-b)\n",
    "        if y not in x:\n",
    "            x[y] = 0\n",
    "        x[y] += 1\n",
    "print(x)"
   ]
  },
  {
   "cell_type": "code",
   "execution_count": 4,
   "metadata": {},
   "outputs": [
    {
     "name": "stdout",
     "output_type": "stream",
     "text": [
      "   1 2 3 4 5 6\n",
      "   - - - - - -\n",
      "1: 0 1 2 3 4 5 \n",
      "2: 1 0 1 2 3 4 \n",
      "3: 2 1 0 1 2 3 \n",
      "4: 3 2 1 0 1 2 \n",
      "5: 4 3 2 1 0 1 \n",
      "6: 5 4 3 2 1 0 \n"
     ]
    }
   ],
   "source": [
    "print(\"   \"+' '.join([str(u) for u in range(1,7)]))\n",
    "print(\"   \"+' '.join([\"-\" for u in range(1,7)]))\n",
    "for a in range(1,7):\n",
    "    print(a, end=\": \")\n",
    "    for b in range(1,7):\n",
    "        y = abs(a-b)\n",
    "        print(y, end=\" \")\n",
    "        if y not in x:\n",
    "            x[y] = 0\n",
    "        x[y] += 1\n",
    "    print()"
   ]
  }
 ],
 "metadata": {
  "kernelspec": {
   "display_name": "Python 3",
   "language": "python",
   "name": "python3"
  },
  "language_info": {
   "codemirror_mode": {
    "name": "ipython",
    "version": 3
   },
   "file_extension": ".py",
   "mimetype": "text/x-python",
   "name": "python",
   "nbconvert_exporter": "python",
   "pygments_lexer": "ipython3",
   "version": "3.11.2"
  },
  "orig_nbformat": 4
 },
 "nbformat": 4,
 "nbformat_minor": 2
}
