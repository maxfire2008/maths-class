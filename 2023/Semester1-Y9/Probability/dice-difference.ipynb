{
 "cells": [
  {
   "cell_type": "markdown",
   "metadata": {},
   "source": [
    "* Two player. Each player places six prisoners into cells numbered 0 to 5.\n",
    "* Each day the players roll two dice. One prisoner is released if the difference on the dice corresponds to the cell number.\n",
    "* The winner is the person who releases all of their prisoners first."
   ]
  },
  {
   "cell_type": "code",
   "execution_count": 9,
   "metadata": {},
   "outputs": [
    {
     "name": "stdout",
     "output_type": "stream",
     "text": [
      "{0: 6, 1: 10, 2: 8, 3: 6, 4: 4, 5: 2}\n"
     ]
    }
   ],
   "source": [
    "x = {}\n",
    "for a in range(1,7):\n",
    "    for b in range(1,7):\n",
    "        y = abs(a-b)\n",
    "        if y not in x:\n",
    "            x[y] = 0\n",
    "        x[y] += 1\n",
    "print(x)"
   ]
  },
  {
   "cell_type": "code",
   "execution_count": null,
   "metadata": {},
   "outputs": [],
   "source": [
    "print(\"   \"+' '.join([str(u) for u in range(1,7)]))\n",
    "print(\"   \"+' '.join([\"-\" for u in range(1,7)]))\n",
    "for a in range(1,7):\n",
    "    print(a, end=\": \")\n",
    "    for b in range(1,7):\n",
    "        y = abs(a-b)\n",
    "        print(y, end=\" \")\n",
    "        if y not in x:\n",
    "            x[y] = 0\n",
    "        x[y] += 1\n",
    "    print()"
   ]
  },
  {
   "cell_type": "markdown",
   "metadata": {},
   "source": [
    "## Simulate a game"
   ]
  },
  {
   "cell_type": "code",
   "execution_count": 16,
   "metadata": {},
   "outputs": [
    {
     "name": "stdout",
     "output_type": "stream",
     "text": [
      "0 / 10000\n",
      "1000 / 10000\n",
      "2000 / 10000\n",
      "3000 / 10000\n",
      "4000 / 10000\n",
      "5000 / 10000\n",
      "6000 / 10000\n",
      "7000 / 10000\n",
      "8000 / 10000\n",
      "9000 / 10000\n",
      "[13, 22, 23, 19, 28, 10, 13, 30, 32, 25]\n",
      "[14, 24, 17, 18, 10, 12, 41, 17, 8, 6]\n",
      "[11, 34, 65, 26, 20, 10, 12, 10, 19, 9]\n",
      "[19, 24, 11, 21, 15, 10, 16, 9, 6, 15]\n",
      "[8, 14, 10, 23, 12, 9, 13, 7, 14, 7]\n",
      "[37, 40, 11, 32, 26, 32, 36, 17, 17, 28]\n",
      "game_board_1: 21.5534\n",
      "game_board_2: 15.5571\n",
      "game_board_3: 22.936\n",
      "game_board_4: 16.053\n",
      "game_board_5: 13.6042\n",
      "game_board_6: 36.0614\n"
     ]
    }
   ],
   "source": [
    "import random\n",
    "import statistics\n",
    "\n",
    "def simulate(game_board):\n",
    "    game_board = game_board.copy()\n",
    "    rolls = 0\n",
    "    while True:\n",
    "        rolls += 1\n",
    "        a = random.randint(1,6)\n",
    "        b = random.randint(1,6)\n",
    "        r = abs(a-b)\n",
    "        if game_board.get(r, -1) > 0:\n",
    "            game_board[r] -= 1\n",
    "        if sum(game_board.values()) == 0:\n",
    "            return rolls\n",
    "\n",
    "game_board_1 = {0: 0, 1: 6, 2: 0, 3: 0, 4: 0, 5: 0}\n",
    "game_board_2 = {0: 2, 1: 2, 2: 2, 3: 0, 4: 0, 5: 0}\n",
    "game_board_3 = {0: 1, 1: 1, 2: 1, 3: 1, 4: 1, 5: 1}\n",
    "game_board_4 = {0: 0, 1: 4, 2: 2, 3: 0, 4: 0, 5: 0}\n",
    "game_board_5 = {0: 1, 1: 2, 2: 2, 3: 1, 4: 0, 5: 0}\n",
    "game_board_6 = {0: 6, 1: 0, 2: 0, 3: 0, 4: 0, 5: 0}\n",
    "\n",
    "results_1 = []\n",
    "results_2 = []\n",
    "results_3 = []\n",
    "results_4 = []\n",
    "results_5 = []\n",
    "results_6 = []\n",
    "\n",
    "for i in range(10000):\n",
    "    results_1.append(simulate(game_board_1))\n",
    "    results_2.append(simulate(game_board_2))\n",
    "    results_3.append(simulate(game_board_3))\n",
    "    results_4.append(simulate(game_board_4))\n",
    "    results_5.append(simulate(game_board_5))\n",
    "    results_6.append(simulate(game_board_6))\n",
    "    if i % 1000 == 0:\n",
    "        print(i,\"/\",10000)\n",
    "\n",
    "print(results_1[:10])\n",
    "print(results_2[:10])\n",
    "print(results_3[:10])\n",
    "print(results_4[:10])\n",
    "print(results_5[:10])\n",
    "print(results_6[:10])\n",
    "print(\"game_board_1:\", game_board_1, statistics.mean(results_1))\n",
    "print(\"game_board_2:\", game_board_2, statistics.mean(results_2))\n",
    "print(\"game_board_3:\", game_board_3, statistics.mean(results_3))\n",
    "print(\"game_board_4:\", game_board_4, statistics.mean(results_4))\n",
    "print(\"game_board_5:\", game_board_5, statistics.mean(results_5))\n",
    "print(\"game_board_6:\", game_board_6, statistics.mean(results_6))"
   ]
  }
 ],
 "metadata": {
  "kernelspec": {
   "display_name": "Python 3",
   "language": "python",
   "name": "python3"
  },
  "language_info": {
   "codemirror_mode": {
    "name": "ipython",
    "version": 3
   },
   "file_extension": ".py",
   "mimetype": "text/x-python",
   "name": "python",
   "nbconvert_exporter": "python",
   "pygments_lexer": "ipython3",
   "version": "3.11.2"
  },
  "orig_nbformat": 4
 },
 "nbformat": 4,
 "nbformat_minor": 2
}
