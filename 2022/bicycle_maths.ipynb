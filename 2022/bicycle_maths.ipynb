{
 "cells": [
  {
   "cell_type": "markdown",
   "metadata": {},
   "source": [
    "Determine front sprocket sizes:"
   ]
  },
  {
   "cell_type": "code",
   "execution_count": 67,
   "metadata": {},
   "outputs": [
    {
     "name": "stdout",
     "output_type": "stream",
     "text": [
      "[22, 32, 42]\n",
      "[12, 14, 16, 18, 21, 24, 28]\n",
      "[ 0.08264275 -1.41521717]\n",
      "[ 0.09603063 -4.56866133]\n"
     ]
    }
   ],
   "source": [
    "import math\n",
    "from scipy import optimize\n",
    "import numpy as np\n",
    "\n",
    "def circumference(diameter):\n",
    "    return math.pi * diameter\n",
    "\n",
    "def teeth_per_mm(circumference, teeth):\n",
    "    return teeth / circumference\n",
    "\n",
    "def mm_to_teeth(mm, teeth_per_mm, extra):\n",
    "    # return mm * teeth_per_mm\n",
    "    # numpy multiply\n",
    "    return np.add(np.multiply(mm, teeth_per_mm),extra)\n",
    "\n",
    "front_gears = [\n",
    "    [22,90,\"F1\"],\n",
    "    [32,129,\"F2\"],\n",
    "    [42,167,\"F3\"]\n",
    "    ]\n",
    "\n",
    "rear_gears = [\n",
    "    [12,56,\"R7\"],\n",
    "    [14,61,\"R6\"],\n",
    "    [16,67,\"R5\"],\n",
    "    [18,75,\"R4\"],\n",
    "    [21,85,\"R3\"],\n",
    "    [24,95,\"R2\"],\n",
    "    [28,108,\"R1\"],\n",
    "    ]\n",
    "\n",
    "import matplotlib.pyplot as plt\n",
    "y_data = [x[0] for x in front_gears]\n",
    "x_data = [int(round(circumference(x[1]))) for x in front_gears]\n",
    "print(y_data)\n",
    "\n",
    "y_data_rear = [x[0] for x in rear_gears]\n",
    "x_data_rear = [int(round(circumference(x[1]))) for x in rear_gears]\n",
    "print(y_data_rear)\n",
    "\n",
    "params, params_covariance = optimize.curve_fit(mm_to_teeth, x_data, y_data,\n",
    "                                               p0=[2,2])\n",
    "params_rear, params_covariance_rear = optimize.curve_fit(mm_to_teeth, x_data_rear, y_data_rear,\n",
    "                                               p0=[2,2])\n",
    "\n",
    "print(params)\n",
    "print(params_rear)"
   ]
  },
  {
   "cell_type": "markdown",
   "metadata": {},
   "source": [
    "Plot values of front size curve:"
   ]
  },
  {
   "cell_type": "code",
   "execution_count": 68,
   "metadata": {},
   "outputs": [
    {
     "data": {
      "image/png": "[encoded data removed]",
      "text/plain": [
       "<Figure size 432x288 with 1 Axes>"
      ]
     },
     "metadata": {
      "needs_background": "light"
     },
     "output_type": "display_data"
    }
   ],
   "source": [
    "plt.figure(figsize=(6, 4))\n",
    "plt.scatter(x_data, y_data, label='Data')\n",
    "plt.plot(x_data, mm_to_teeth(x_data, params[0], params[1]),\n",
    "         label='Fitted curve')\n",
    "\n",
    "plt.legend(loc='best')\n",
    "\n",
    "plt.show()"
   ]
  },
  {
   "cell_type": "code",
   "execution_count": 69,
   "metadata": {},
   "outputs": [
    {
     "data": {
      "image/png": "[encoded data removed]",
      "text/plain": [
       "<Figure size 432x288 with 1 Axes>"
      ]
     },
     "metadata": {
      "needs_background": "light"
     },
     "output_type": "display_data"
    }
   ],
   "source": [
    "plt.figure(figsize=(6, 4))\n",
    "plt.scatter(x_data_rear, y_data_rear, label='Data')\n",
    "plt.plot(x_data_rear, mm_to_teeth(x_data_rear, params_rear[0], params_rear[1]),\n",
    "         label='Fitted curve')\n",
    "\n",
    "plt.legend(loc='best')\n",
    "\n",
    "plt.show()"
   ]
  },
  {
   "cell_type": "markdown",
   "metadata": {},
   "source": [
    "Calculate more gears"
   ]
  },
  {
   "cell_type": "code",
   "execution_count": 70,
   "metadata": {},
   "outputs": [
    {
     "name": "stdout",
     "output_type": "stream",
     "text": [
      "Largest gear: 41.94296699464405\n",
      "Medium gear: 32.07703287408577\n",
      "Smallest gear: 21.95146890824966\n",
      "R7: 12.325930201109873\n",
      "R6: 13.83437587310382\n",
      "R5: 15.644510679496555\n",
      "R4: 18.05802375468687\n",
      "R3: 21.074915098674765\n",
      "R2: 24.09180644266266\n",
      "R1: 28.013765189846918\n",
      "Big big big (1m radius): 258.21462811109245\n",
      "[[12, 56, 'R7'],\n",
      " [14, 61, 'R6'],\n",
      " [16, 67, 'R5'],\n",
      " [18, 75, 'R4'],\n",
      " [21, 85, 'R3'],\n",
      " [24, 95, 'R2'],\n",
      " [28, 108, 'R1']]\n",
      "[[22, 90, 'F1'], [32, 129, 'F2'], [42, 167, 'F3']]\n"
     ]
    }
   ],
   "source": [
    "print(\n",
    "    \"Largest gear:\", mm_to_teeth(circumference(167), params[0], params[1]),\n",
    "    )\n",
    "print(\n",
    "    \"Medium gear:\", mm_to_teeth(circumference(129), params[0], params[1]),\n",
    ")\n",
    "print(\n",
    "    \"Smallest gear:\", mm_to_teeth(circumference(90), params[0], params[1]),\n",
    ")\n",
    "print(\n",
    "    \"R7:\", mm_to_teeth(circumference(56), params_rear[0], params_rear[1]),\n",
    ")\n",
    "print(\n",
    "    \"R6:\", mm_to_teeth(circumference(61), params_rear[0], params_rear[1]),\n",
    ")\n",
    "print(\n",
    "    \"R5:\", mm_to_teeth(circumference(67), params_rear[0], params_rear[1]),\n",
    ")\n",
    "print(\n",
    "    \"R4:\", mm_to_teeth(circumference(75), params_rear[0], params_rear[1]),\n",
    ")\n",
    "print(\n",
    "    \"R3:\", mm_to_teeth(circumference(85), params_rear[0], params_rear[1]),\n",
    ")\n",
    "print(\n",
    "    \"R2:\", mm_to_teeth(circumference(95), params_rear[0], params_rear[1]),\n",
    ")\n",
    "print(\n",
    "    \"R1:\", mm_to_teeth(circumference(108), params_rear[0], params_rear[1]),\n",
    ")\n",
    "print(\n",
    "    \"Big big big (1m radius):\", mm_to_teeth(circumference(1000), params[0], params[1]),\n",
    ")\n",
    "\n",
    "from pprint import *\n",
    "pprint(\n",
    "    rear_gears\n",
    ")\n",
    "pprint(front_gears)"
   ]
  },
  {
   "cell_type": "code",
   "execution_count": 77,
   "metadata": {},
   "outputs": [
    {
     "name": "stdout",
     "output_type": "stream",
     "text": [
      "F1 11/45\n",
      "F2 32/129\n",
      "F3 42/167\n",
      "R1 7/27\n",
      "R2 24/95\n",
      "R3 21/85\n",
      "R4 6/25\n",
      "R5 16/67\n",
      "R6 14/61\n",
      "R7 3/14\n"
     ]
    }
   ],
   "source": [
    "import fractions\n",
    "for gear in sorted(front_gears,key = lambda x: x[2]):\n",
    "    # ratio = gear[0] over gear[1] simplified\n",
    "    ratio = fractions.Fraction(gear[0], gear[1])\n",
    "    print(gear[2],ratio)\n",
    "for gear in sorted(rear_gears,key = lambda x: x[2]):\n",
    "    ratio = fractions.Fraction(gear[0], gear[1])\n",
    "    print(gear[2],ratio)"
   ]
  }
 ],
 "metadata": {
  "kernelspec": {
   "display_name": "Python 3.9.2 64-bit",
   "language": "python",
   "name": "python3"
  },
  "language_info": {
   "codemirror_mode": {
    "name": "ipython",
    "version": 3
   },
   "file_extension": ".py",
   "mimetype": "text/x-python",
   "name": "python",
   "nbconvert_exporter": "python",
   "pygments_lexer": "ipython3",
   "version": "3.9.2"
  },
  "orig_nbformat": 4,
  "vscode": {
   "interpreter": {
    "hash": "916dbcbb3f70747c44a77c7bcd40155683ae19c65e1c03b4aa3499c5328201f1"
   }
  }
 },
 "nbformat": 4,
 "nbformat_minor": 2
}
