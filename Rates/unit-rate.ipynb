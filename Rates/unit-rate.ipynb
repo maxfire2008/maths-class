{
 "cells": [
  {
   "cell_type": "markdown",
   "metadata": {},
   "source": [
    "# Unit rate\n",
    "A rate is a ratio that compares two quantities with different units.\n",
    "\n",
    "Unit rate is a rate that has 1 as the denominator.\n",
    "We can use the unit rate to solve worded problems.\n",
    "\n",
    "Example: 24 pencils cost $1.20, how much will 6 pencils cost?\n",
    "\n",
    "* 12 = $0.60\n",
    "* 6 = $0.30\n",
    "* 3 = $0.15\n",
    "* 1 = $0.5"
   ]
  },
  {
   "cell_type": "code",
   "execution_count": null,
   "metadata": {
    "vscode": {
     "languageId": "plaintext"
    }
   },
   "outputs": [],
   "source": [
    "# Jesus' saving\n",
    "import matplotlib.pyplot as plt\n",
    "\n",
    "x=[]\n",
    "y=[]\n",
    "current_balance = 325\n",
    "\n",
    "for m in range(24):\n",
    "    x.append(m)\n",
    "    y.apppend(current_balance)\n",
    "\n",
    "    current_balance += 50\n",
    "\n",
    "plt.plot(x,y)\n",
    "plt.show()"
   ]
  }
 ],
 "metadata": {
  "language_info": {
   "name": "python"
  },
  "orig_nbformat": 4
 },
 "nbformat": 4,
 "nbformat_minor": 2
}
